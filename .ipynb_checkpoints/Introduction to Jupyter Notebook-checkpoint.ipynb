{
 "cells": [
  {
   "cell_type": "code",
   "execution_count": null,
   "id": "cfaa195f",
   "metadata": {},
   "outputs": [],
   "source": [
    "7"
   ]
  },
  {
   "cell_type": "code",
   "execution_count": null,
   "id": "52fcf64b",
   "metadata": {},
   "outputs": [],
   "source": [
    "7*7"
   ]
  },
  {
   "cell_type": "code",
   "execution_count": null,
   "id": "f9091b8b",
   "metadata": {},
   "outputs": [],
   "source": [
    "7\n",
    "7*7"
   ]
  },
  {
   "cell_type": "code",
   "execution_count": null,
   "id": "246c8bfe",
   "metadata": {},
   "outputs": [],
   "source": [
    "print(7)\n",
    "7*7"
   ]
  },
  {
   "cell_type": "code",
   "execution_count": null,
   "id": "79782b6b",
   "metadata": {},
   "outputs": [],
   "source": [
    "print(7)\n",
    "print(7*7)"
   ]
  },
  {
   "cell_type": "code",
   "execution_count": null,
   "id": "339a3723",
   "metadata": {},
   "outputs": [],
   "source": [
    "name=\"Soma\""
   ]
  },
  {
   "cell_type": "code",
   "execution_count": null,
   "id": "acea5c88",
   "metadata": {
    "scrolled": false
   },
   "outputs": [],
   "source": [
    "print(name)"
   ]
  },
  {
   "cell_type": "code",
   "execution_count": null,
   "id": "d1b7272f",
   "metadata": {},
   "outputs": [],
   "source": [
    "name"
   ]
  },
  {
   "cell_type": "code",
   "execution_count": null,
   "id": "4b4ed127",
   "metadata": {},
   "outputs": [],
   "source": [
    "name = \"Mulberry\""
   ]
  },
  {
   "cell_type": "code",
   "execution_count": null,
   "id": "b7d30cc5",
   "metadata": {},
   "outputs": [],
   "source": [
    "name"
   ]
  },
  {
   "cell_type": "code",
   "execution_count": null,
   "id": "4826bbfd",
   "metadata": {},
   "outputs": [],
   "source": [
    "number = 4#I had number = 4, ran the cell, then deleted it, ran the cell again"
   ]
  },
  {
   "cell_type": "code",
   "execution_count": null,
   "id": "1aeeecac",
   "metadata": {},
   "outputs": [],
   "source": [
    "number*number"
   ]
  },
  {
   "cell_type": "code",
   "execution_count": 3,
   "id": "c7f8df10",
   "metadata": {},
   "outputs": [],
   "source": [
    "import requests\n",
    "\n",
    "url = \"https://pokeapi.co/api/v2/type/electric/\"\n",
    "response = requests.get(url)\n",
    "data = response.json()"
   ]
  },
  {
   "cell_type": "markdown",
   "id": "a7236d44",
   "metadata": {},
   "source": [
    "# Solutions to the Homework\n",
    "We're getting our data from [the Pokemon API](https://pokeapi.co).\n",
    "\n",
    "### Problem 6: Korean names\n",
    "_This is a sentence all about what we're doing below._ We're going to be seeing how **electric pokemon are called in Korean**\n",
    "\n",
    "```python\n",
    "import requests\n",
    "\n",
    "url = \"blah blah blah your URL\"\n",
    "response = requests.get(url)\n",
    "data = response.json()"
   ]
  },
  {
   "cell_type": "code",
   "execution_count": 5,
   "id": "9730b64d",
   "metadata": {},
   "outputs": [
    {
     "data": {
      "text/plain": [
       "dict_keys(['damage_relations', 'game_indices', 'generation', 'id', 'move_damage_class', 'moves', 'name', 'names', 'past_damage_relations', 'pokemon'])"
      ]
     },
     "execution_count": 5,
     "metadata": {},
     "output_type": "execute_result"
    }
   ],
   "source": [
    "data.keys()"
   ]
  },
  {
   "cell_type": "code",
   "execution_count": 8,
   "id": "8e7fc395",
   "metadata": {
    "scrolled": true
   },
   "outputs": [
    {
     "data": {
      "text/plain": [
       "[{'language': {'name': 'ja-Hrkt',\n",
       "   'url': 'https://pokeapi.co/api/v2/language/1/'},\n",
       "  'name': 'でんき'},\n",
       " {'language': {'name': 'ko', 'url': 'https://pokeapi.co/api/v2/language/3/'},\n",
       "  'name': '전기'},\n",
       " {'language': {'name': 'zh-Hant',\n",
       "   'url': 'https://pokeapi.co/api/v2/language/4/'},\n",
       "  'name': '電'},\n",
       " {'language': {'name': 'fr', 'url': 'https://pokeapi.co/api/v2/language/5/'},\n",
       "  'name': 'Électrik'},\n",
       " {'language': {'name': 'de', 'url': 'https://pokeapi.co/api/v2/language/6/'},\n",
       "  'name': 'Elektro'},\n",
       " {'language': {'name': 'es', 'url': 'https://pokeapi.co/api/v2/language/7/'},\n",
       "  'name': 'Eléctrico'},\n",
       " {'language': {'name': 'it', 'url': 'https://pokeapi.co/api/v2/language/8/'},\n",
       "  'name': 'Elettro'},\n",
       " {'language': {'name': 'en', 'url': 'https://pokeapi.co/api/v2/language/9/'},\n",
       "  'name': 'Electric'},\n",
       " {'language': {'name': 'ja', 'url': 'https://pokeapi.co/api/v2/language/11/'},\n",
       "  'name': 'でんき'},\n",
       " {'language': {'name': 'zh-Hans',\n",
       "   'url': 'https://pokeapi.co/api/v2/language/12/'},\n",
       "  'name': '电'}]"
      ]
     },
     "execution_count": 8,
     "metadata": {},
     "output_type": "execute_result"
    }
   ],
   "source": [
    "#Tried data['name'] but it was just the english name\n",
    "data['names']"
   ]
  },
  {
   "cell_type": "code",
   "execution_count": 9,
   "id": "e47e314c",
   "metadata": {},
   "outputs": [
    {
     "data": {
      "text/plain": [
       "{'language': {'name': 'ja-Hrkt',\n",
       "  'url': 'https://pokeapi.co/api/v2/language/1/'},\n",
       " 'name': 'でんき'}"
      ]
     },
     "execution_count": 9,
     "metadata": {},
     "output_type": "execute_result"
    }
   ],
   "source": [
    "data['names'][0]"
   ]
  },
  {
   "cell_type": "code",
   "execution_count": 10,
   "id": "8c4655f2",
   "metadata": {},
   "outputs": [
    {
     "data": {
      "text/plain": [
       "{'language': {'name': 'ko', 'url': 'https://pokeapi.co/api/v2/language/3/'},\n",
       " 'name': '전기'}"
      ]
     },
     "execution_count": 10,
     "metadata": {},
     "output_type": "execute_result"
    }
   ],
   "source": [
    "data['names'][1]"
   ]
  },
  {
   "cell_type": "code",
   "execution_count": 11,
   "id": "4ed2b545",
   "metadata": {},
   "outputs": [
    {
     "data": {
      "text/plain": [
       "dict_keys(['language', 'name'])"
      ]
     },
     "execution_count": 11,
     "metadata": {},
     "output_type": "execute_result"
    }
   ],
   "source": [
    "data['names'][1].keys()"
   ]
  },
  {
   "cell_type": "code",
   "execution_count": 12,
   "id": "9ba47880",
   "metadata": {},
   "outputs": [
    {
     "data": {
      "text/plain": [
       "'전기'"
      ]
     },
     "execution_count": 12,
     "metadata": {},
     "output_type": "execute_result"
    }
   ],
   "source": [
    "data['names'][1]['name']"
   ]
  },
  {
   "cell_type": "code",
   "execution_count": 13,
   "id": "474320fa",
   "metadata": {},
   "outputs": [],
   "source": [
    "#Maybe the above is not ideal???"
   ]
  },
  {
   "cell_type": "code",
   "execution_count": 21,
   "id": "026d0a50",
   "metadata": {},
   "outputs": [
    {
     "name": "stdout",
     "output_type": "stream",
     "text": [
      "ja-Hrkt\n",
      "ko\n",
      "I FUCKING FOUND IT\n",
      "전기\n",
      "zh-Hant\n",
      "fr\n",
      "de\n",
      "es\n",
      "it\n",
      "en\n",
      "ja\n",
      "zh-Hans\n"
     ]
    }
   ],
   "source": [
    "for name in data ['names']:\n",
    "   # print(\"--------\")\n",
    "    print(name['language']['name'])\n",
    "    #name['name'] is the name of the type not the name of the language\n",
    "    if name['language']['name']== 'ko':\n",
    "        print('I FUCKING FOUND IT')\n",
    "        print(name['name'])"
   ]
  },
  {
   "cell_type": "code",
   "execution_count": 44,
   "id": "16f823ab",
   "metadata": {},
   "outputs": [],
   "source": [
    "pika_url = \"https://pokeapi.co/api/v2/pokemon/pikachu/\"\n",
    "pika_response = requests.get(url)\n",
    "pika_data = response.json()"
   ]
  },
  {
   "cell_type": "code",
   "execution_count": 45,
   "id": "8806ae68",
   "metadata": {
    "scrolled": true
   },
   "outputs": [
    {
     "data": {
      "text/plain": [
       "{'base_stat': 90,\n",
       " 'effort': 2,\n",
       " 'stat': {'name': 'speed', 'url': 'https://pokeapi.co/api/v2/stat/6/'}}"
      ]
     },
     "execution_count": 45,
     "metadata": {},
     "output_type": "execute_result"
    }
   ],
   "source": [
    "pika_data['stats'][-1]"
   ]
  },
  {
   "cell_type": "code",
   "execution_count": 43,
   "id": "81eb5944",
   "metadata": {},
   "outputs": [
    {
     "name": "stdout",
     "output_type": "stream",
     "text": [
      "-----------\n",
      "-----------\n",
      "-----------\n",
      "-----------\n",
      "-----------\n",
      "-----------\n",
      "I FOUND SPEED!!\n",
      "90\n",
      "Pikachu's speed is [90]\n"
     ]
    }
   ],
   "source": [
    "for stat in pika_data['stats']:\n",
    "    print(\"-----------\")\n",
    "    if(stat['stat']['name'])=='speed':\n",
    "        print(\"I FOUND SPEED!!\")\n",
    "        #print(stat)\n",
    "        print(stat['base_stat'])\n",
    "        pikachu_speed = stat['base_stat']\n",
    "print(\"Pikachu's speed is\", [pikachu_speed])"
   ]
  },
  {
   "cell_type": "code",
   "execution_count": null,
   "id": "b93cb0c6",
   "metadata": {},
   "outputs": [],
   "source": [
    "evee_url = \"https://pokeapi.co/api/v2/pokemon/evee/\"\n",
    "evee_response = requests.get(url)\n",
    "evee_data = response.json()"
   ]
  }
 ],
 "metadata": {
  "kernelspec": {
   "display_name": "Python 3 (ipykernel)",
   "language": "python",
   "name": "python3"
  },
  "language_info": {
   "codemirror_mode": {
    "name": "ipython",
    "version": 3
   },
   "file_extension": ".py",
   "mimetype": "text/x-python",
   "name": "python",
   "nbconvert_exporter": "python",
   "pygments_lexer": "ipython3",
   "version": "3.10.3"
  }
 },
 "nbformat": 4,
 "nbformat_minor": 5
}

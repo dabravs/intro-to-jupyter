{
 "cells": [
  {
   "cell_type": "code",
   "execution_count": 1,
   "id": "cfaa195f",
   "metadata": {},
   "outputs": [
    {
     "data": {
      "text/plain": [
       "7"
      ]
     },
     "execution_count": 1,
     "metadata": {},
     "output_type": "execute_result"
    }
   ],
   "source": [
    "7"
   ]
  },
  {
   "cell_type": "code",
   "execution_count": 2,
   "id": "52fcf64b",
   "metadata": {},
   "outputs": [
    {
     "data": {
      "text/plain": [
       "49"
      ]
     },
     "execution_count": 2,
     "metadata": {},
     "output_type": "execute_result"
    }
   ],
   "source": [
    "7*7"
   ]
  },
  {
   "cell_type": "code",
   "execution_count": 3,
   "id": "f9091b8b",
   "metadata": {},
   "outputs": [
    {
     "data": {
      "text/plain": [
       "49"
      ]
     },
     "execution_count": 3,
     "metadata": {},
     "output_type": "execute_result"
    }
   ],
   "source": [
    "7\n",
    "7*7"
   ]
  },
  {
   "cell_type": "code",
   "execution_count": 4,
   "id": "246c8bfe",
   "metadata": {},
   "outputs": [
    {
     "name": "stdout",
     "output_type": "stream",
     "text": [
      "7\n"
     ]
    },
    {
     "data": {
      "text/plain": [
       "49"
      ]
     },
     "execution_count": 4,
     "metadata": {},
     "output_type": "execute_result"
    }
   ],
   "source": [
    "print(7)\n",
    "7*7"
   ]
  },
  {
   "cell_type": "code",
   "execution_count": 5,
   "id": "79782b6b",
   "metadata": {},
   "outputs": [
    {
     "name": "stdout",
     "output_type": "stream",
     "text": [
      "7\n",
      "49\n"
     ]
    }
   ],
   "source": [
    "print(7)\n",
    "print(7*7)"
   ]
  },
  {
   "cell_type": "code",
   "execution_count": 6,
   "id": "339a3723",
   "metadata": {},
   "outputs": [],
   "source": [
    "name=\"Soma\""
   ]
  },
  {
   "cell_type": "code",
   "execution_count": 7,
   "id": "acea5c88",
   "metadata": {
    "scrolled": false
   },
   "outputs": [
    {
     "name": "stdout",
     "output_type": "stream",
     "text": [
      "Soma\n"
     ]
    }
   ],
   "source": [
    "print(name)"
   ]
  },
  {
   "cell_type": "code",
   "execution_count": 8,
   "id": "d1b7272f",
   "metadata": {},
   "outputs": [
    {
     "data": {
      "text/plain": [
       "'Soma'"
      ]
     },
     "execution_count": 8,
     "metadata": {},
     "output_type": "execute_result"
    }
   ],
   "source": [
    "name"
   ]
  },
  {
   "cell_type": "code",
   "execution_count": 9,
   "id": "4b4ed127",
   "metadata": {},
   "outputs": [],
   "source": [
    "name = \"Mulberry\""
   ]
  },
  {
   "cell_type": "code",
   "execution_count": 10,
   "id": "b7d30cc5",
   "metadata": {},
   "outputs": [
    {
     "data": {
      "text/plain": [
       "'Mulberry'"
      ]
     },
     "execution_count": 10,
     "metadata": {},
     "output_type": "execute_result"
    }
   ],
   "source": [
    "name"
   ]
  },
  {
   "cell_type": "code",
   "execution_count": 11,
   "id": "4826bbfd",
   "metadata": {},
   "outputs": [],
   "source": [
    "number = 4#I had number = 4, ran the cell, then deleted it, ran the cell again"
   ]
  },
  {
   "cell_type": "code",
   "execution_count": 12,
   "id": "1aeeecac",
   "metadata": {},
   "outputs": [
    {
     "data": {
      "text/plain": [
       "16"
      ]
     },
     "execution_count": 12,
     "metadata": {},
     "output_type": "execute_result"
    }
   ],
   "source": [
    "number*number"
   ]
  },
  {
   "cell_type": "code",
   "execution_count": 13,
   "id": "c7f8df10",
   "metadata": {},
   "outputs": [],
   "source": [
    "import requests\n",
    "\n",
    "url = \"https://pokeapi.co/api/v2/type/electric/\"\n",
    "response = requests.get(url)\n",
    "data = response.json()"
   ]
  },
  {
   "cell_type": "markdown",
   "id": "f58dde47",
   "metadata": {},
   "source": [
    "# Solutions to the Homework\n",
    "We're getting our data from [the Pokemon API](https://pokeapi.co).\n",
    "\n",
    "### Problem 6: Korean names\n",
    "_This is a sentence all about what we're doing below._ We're going to be seeing how **electric pokemon are called in Korean**\n",
    "\n",
    "```python\n",
    "import requests\n",
    "\n",
    "url = \"blah blah blah your URL\"\n",
    "response = requests.get(url)\n",
    "data = response.json()"
   ]
  },
  {
   "cell_type": "code",
   "execution_count": 14,
   "id": "2d32917c",
   "metadata": {},
   "outputs": [
    {
     "data": {
      "text/plain": [
       "dict_keys(['damage_relations', 'game_indices', 'generation', 'id', 'move_damage_class', 'moves', 'name', 'names', 'past_damage_relations', 'pokemon'])"
      ]
     },
     "execution_count": 14,
     "metadata": {},
     "output_type": "execute_result"
    }
   ],
   "source": [
    "data.keys()"
   ]
  },
  {
   "cell_type": "code",
   "execution_count": 15,
   "id": "ad7c1ff0",
   "metadata": {
    "scrolled": true
   },
   "outputs": [
    {
     "data": {
      "text/plain": [
       "[{'language': {'name': 'ja-Hrkt',\n",
       "   'url': 'https://pokeapi.co/api/v2/language/1/'},\n",
       "  'name': 'でんき'},\n",
       " {'language': {'name': 'ko', 'url': 'https://pokeapi.co/api/v2/language/3/'},\n",
       "  'name': '전기'},\n",
       " {'language': {'name': 'zh-Hant',\n",
       "   'url': 'https://pokeapi.co/api/v2/language/4/'},\n",
       "  'name': '電'},\n",
       " {'language': {'name': 'fr', 'url': 'https://pokeapi.co/api/v2/language/5/'},\n",
       "  'name': 'Électrik'},\n",
       " {'language': {'name': 'de', 'url': 'https://pokeapi.co/api/v2/language/6/'},\n",
       "  'name': 'Elektro'},\n",
       " {'language': {'name': 'es', 'url': 'https://pokeapi.co/api/v2/language/7/'},\n",
       "  'name': 'Eléctrico'},\n",
       " {'language': {'name': 'it', 'url': 'https://pokeapi.co/api/v2/language/8/'},\n",
       "  'name': 'Elettro'},\n",
       " {'language': {'name': 'en', 'url': 'https://pokeapi.co/api/v2/language/9/'},\n",
       "  'name': 'Electric'},\n",
       " {'language': {'name': 'ja', 'url': 'https://pokeapi.co/api/v2/language/11/'},\n",
       "  'name': 'でんき'},\n",
       " {'language': {'name': 'zh-Hans',\n",
       "   'url': 'https://pokeapi.co/api/v2/language/12/'},\n",
       "  'name': '电'}]"
      ]
     },
     "execution_count": 15,
     "metadata": {},
     "output_type": "execute_result"
    }
   ],
   "source": [
    "#Tried data['name'] but it was just the english name\n",
    "data['names']"
   ]
  },
  {
   "cell_type": "code",
   "execution_count": 16,
   "id": "be890d92",
   "metadata": {},
   "outputs": [
    {
     "data": {
      "text/plain": [
       "{'language': {'name': 'ja-Hrkt',\n",
       "  'url': 'https://pokeapi.co/api/v2/language/1/'},\n",
       " 'name': 'でんき'}"
      ]
     },
     "execution_count": 16,
     "metadata": {},
     "output_type": "execute_result"
    }
   ],
   "source": [
    "data['names'][0]"
   ]
  },
  {
   "cell_type": "code",
   "execution_count": 17,
   "id": "095297a0",
   "metadata": {},
   "outputs": [
    {
     "data": {
      "text/plain": [
       "{'language': {'name': 'ko', 'url': 'https://pokeapi.co/api/v2/language/3/'},\n",
       " 'name': '전기'}"
      ]
     },
     "execution_count": 17,
     "metadata": {},
     "output_type": "execute_result"
    }
   ],
   "source": [
    "data['names'][1]"
   ]
  },
  {
   "cell_type": "code",
   "execution_count": 18,
   "id": "84b8bb9a",
   "metadata": {},
   "outputs": [
    {
     "data": {
      "text/plain": [
       "dict_keys(['language', 'name'])"
      ]
     },
     "execution_count": 18,
     "metadata": {},
     "output_type": "execute_result"
    }
   ],
   "source": [
    "data['names'][1].keys()"
   ]
  },
  {
   "cell_type": "code",
   "execution_count": 19,
   "id": "100744c8",
   "metadata": {},
   "outputs": [
    {
     "data": {
      "text/plain": [
       "'전기'"
      ]
     },
     "execution_count": 19,
     "metadata": {},
     "output_type": "execute_result"
    }
   ],
   "source": [
    "data['names'][1]['name']"
   ]
  },
  {
   "cell_type": "code",
   "execution_count": 20,
   "id": "eb687257",
   "metadata": {},
   "outputs": [],
   "source": [
    "#Maybe the above is not ideal???"
   ]
  },
  {
   "cell_type": "code",
   "execution_count": 21,
   "id": "f8783aeb",
   "metadata": {},
   "outputs": [
    {
     "name": "stdout",
     "output_type": "stream",
     "text": [
      "ja-Hrkt\n",
      "ko\n",
      "I FUCKING FOUND IT\n",
      "전기\n",
      "zh-Hant\n",
      "fr\n",
      "de\n",
      "es\n",
      "it\n",
      "en\n",
      "ja\n",
      "zh-Hans\n"
     ]
    }
   ],
   "source": [
    "for name in data ['names']:\n",
    "   # print(\"--------\")\n",
    "    print(name['language']['name'])\n",
    "    #name['name'] is the name of the type not the name of the language\n",
    "    if name['language']['name']== 'ko':\n",
    "        print('I FUCKING FOUND IT')\n",
    "        print(name['name'])"
   ]
  },
  {
   "cell_type": "code",
   "execution_count": 22,
   "id": "4dd1d766",
   "metadata": {},
   "outputs": [],
   "source": [
    "pika_url = \"https://pokeapi.co/api/v2/pokemon/pikachu/\"\n",
    "pika_response = requests.get(url)\n",
    "pika_data = response.json()"
   ]
  },
  {
   "cell_type": "code",
   "execution_count": 24,
   "id": "35e76229",
   "metadata": {
    "scrolled": false
   },
   "outputs": [
    {
     "ename": "KeyError",
     "evalue": "'stats'",
     "output_type": "error",
     "traceback": [
      "\u001b[0;31m---------------------------------------------------------------------------\u001b[0m",
      "\u001b[0;31mKeyError\u001b[0m                                  Traceback (most recent call last)",
      "Input \u001b[0;32mIn [24]\u001b[0m, in \u001b[0;36m<cell line: 1>\u001b[0;34m()\u001b[0m\n\u001b[0;32m----> 1\u001b[0m \u001b[43mpika_data\u001b[49m\u001b[43m[\u001b[49m\u001b[38;5;124;43m'\u001b[39;49m\u001b[38;5;124;43mstats\u001b[39;49m\u001b[38;5;124;43m'\u001b[39;49m\u001b[43m]\u001b[49m[\u001b[38;5;241m-\u001b[39m\u001b[38;5;241m1\u001b[39m]\n",
      "\u001b[0;31mKeyError\u001b[0m: 'stats'"
     ]
    }
   ],
   "source": [
    "pika_data['stats'][-1]"
   ]
  },
  {
   "cell_type": "code",
   "execution_count": null,
   "id": "371bc6db",
   "metadata": {},
   "outputs": [],
   "source": [
    "for stat in pika_data['stats']:\n",
    "    print(\"-----------\")\n",
    "    if(stat['stat']['name'])=='speed':\n",
    "        print(\"I FOUND SPEED!!\")\n",
    "        #print(stat)\n",
    "        print(stat['base_stat'])\n",
    "        pikachu_speed = stat['base_stat']\n",
    "print(\"Pikachu's speed is\", [pikachu_speed])"
   ]
  },
  {
   "cell_type": "code",
   "execution_count": null,
   "id": "e043e709",
   "metadata": {},
   "outputs": [],
   "source": [
    "evee_url = \"https://pokeapi.co/api/v2/pokemon/evee/\"\n",
    "evee_response = requests.get(url)\n",
    "evee_data = response.json()"
   ]
  },
  {
   "cell_type": "code",
   "execution_count": null,
   "id": "29749f8d",
   "metadata": {},
   "outputs": [],
   "source": []
  }
 ],
 "metadata": {
  "kernelspec": {
   "display_name": "Python 3 (ipykernel)",
   "language": "python",
   "name": "python3"
  },
  "language_info": {
   "codemirror_mode": {
    "name": "ipython",
    "version": 3
   },
   "file_extension": ".py",
   "mimetype": "text/x-python",
   "name": "python",
   "nbconvert_exporter": "python",
   "pygments_lexer": "ipython3",
   "version": "3.10.3"
  }
 },
 "nbformat": 4,
 "nbformat_minor": 5
}
